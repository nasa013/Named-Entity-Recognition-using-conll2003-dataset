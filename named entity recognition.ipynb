{
 "cells": [
  {
   "cell_type": "markdown",
   "metadata": {},
   "source": [
    "#  **Importing Libraries** ⚡\n",
    "\n",
    "> Begin by loading all the essential libraries."
   ]
  },
  {
   "cell_type": "code",
   "execution_count": 1,
   "metadata": {},
   "outputs": [],
   "source": [
    "import nltk\n",
    "from nltk.stem import PorterStemmer\n",
    "import pandas as pd\n",
    "import numpy as np\n",
    "\n",
    "\n",
    "import matplotlib.pyplot as plt\n",
    "import seaborn as sns\n",
    "import re\n",
    "import string\n"
   ]
  },
  {
   "cell_type": "markdown",
   "metadata": {},
   "source": [
    "#  **Load the Data** 📂\n",
    "\n",
    "> Step into the journey! Load your dataset seamlessly to kickstart the analysis pipeline. "
   ]
  },
  {
   "cell_type": "code",
   "execution_count": 2,
   "metadata": {},
   "outputs": [
    {
     "name": "stdout",
     "output_type": "stream",
     "text": [
      "DatasetDict({\n",
      "    train: Dataset({\n",
      "        features: ['id', 'tokens', 'pos_tags', 'chunk_tags', 'ner_tags'],\n",
      "        num_rows: 14041\n",
      "    })\n",
      "    validation: Dataset({\n",
      "        features: ['id', 'tokens', 'pos_tags', 'chunk_tags', 'ner_tags'],\n",
      "        num_rows: 3250\n",
      "    })\n",
      "    test: Dataset({\n",
      "        features: ['id', 'tokens', 'pos_tags', 'chunk_tags', 'ner_tags'],\n",
      "        num_rows: 3453\n",
      "    })\n",
      "})\n"
     ]
    }
   ],
   "source": [
    "# load the data\n",
    "from datasets import load_dataset\n",
    "\n",
    "# Load the dataset\n",
    "dataset = load_dataset(\"conll2003\" , trust_remote_code=True)\n",
    "\n",
    "# dataset structure\n",
    "print(dataset)\n"
   ]
  },
  {
   "cell_type": "markdown",
   "metadata": {},
   "source": [
    "#  **Explore the Dataset** 🔍\n",
    "\n",
    "> Gain insights into the dataset by examining its structure\n"
   ]
  },
  {
   "cell_type": "code",
   "execution_count": 3,
   "metadata": {},
   "outputs": [
    {
     "name": "stdout",
     "output_type": "stream",
     "text": [
      "{'id': '0', 'tokens': ['EU', 'rejects', 'German', 'call', 'to', 'boycott', 'British', 'lamb', '.'], 'pos_tags': [22, 42, 16, 21, 35, 37, 16, 21, 7], 'chunk_tags': [11, 21, 11, 12, 21, 22, 11, 12, 0], 'ner_tags': [3, 0, 7, 0, 0, 0, 7, 0, 0]}\n"
     ]
    }
   ],
   "source": [
    "train_dataset = dataset['train']\n",
    "test_dataset = dataset['test']\n",
    "validation_dataset = dataset['validation']\n",
    "\n",
    "# sample data\n",
    "print(train_dataset[0])\n"
   ]
  },
  {
   "cell_type": "markdown",
   "metadata": {},
   "source": [
    "lets see  the actual ner tags meanings"
   ]
  },
  {
   "cell_type": "code",
   "execution_count": 4,
   "metadata": {},
   "outputs": [
    {
     "name": "stdout",
     "output_type": "stream",
     "text": [
      "Token - NER Tag\n",
      "EU - B-ORG\n",
      "rejects - O\n",
      "German - B-MISC\n",
      "call - O\n",
      "to - O\n",
      "boycott - O\n",
      "British - B-MISC\n",
      "lamb - O\n",
      ". - O\n"
     ]
    }
   ],
   "source": [
    "label_names = dataset[\"train\"].features[\"ner_tags\"].feature.names\n",
    "\n",
    "# analysis and change them\n",
    "sample = dataset[\"train\"][0]\n",
    "tokens = sample[\"tokens\"]\n",
    "ner_tags = [label_names[tag] for tag in sample[\"ner_tags\"]]\n",
    "\n",
    "# Print the tokens and their corresponding NER tags\n",
    "print(\"Token - NER Tag\")\n",
    "for token, ner_tag in zip(tokens, ner_tags):\n",
    "    print(f\"{token} - {ner_tag}\")\n"
   ]
  },
  {
   "cell_type": "code",
   "execution_count": 5,
   "metadata": {},
   "outputs": [
    {
     "name": "stdout",
     "output_type": "stream",
     "text": [
      "<class 'datasets.arrow_dataset.Dataset'>\n"
     ]
    }
   ],
   "source": [
    "print(type(train_dataset))"
   ]
  },
  {
   "cell_type": "markdown",
   "metadata": {},
   "source": [
    "#  **Preprocessing** 🛠️\n",
    "\n",
    "> Data preprocessing is a critical step in preparing the dataset for optimal model performance.\n"
   ]
  },
  {
   "cell_type": "code",
   "execution_count": 6,
   "metadata": {},
   "outputs": [],
   "source": [
    "def dataset_to_dataframe(dataset):\n",
    "    \"\"\"\n",
    "    Convert a Hugging Face Dataset to pandas DataFrame.\n",
    "    Preserves lists in each column as they are.\n",
    "    \n",
    "    Args:\n",
    "        dataset: A Hugging Face Dataset object\n",
    "        \n",
    "    Returns:\n",
    "        pandas.DataFrame: A DataFrame containing the dataset information with list features\n",
    "    \"\"\"\n",
    "    \n",
    "    # Convert to pandas DataFrame while preserving the lists\n",
    "    df = pd.DataFrame({\n",
    "        column: dataset[column] for column in dataset.features\n",
    "    })\n",
    "    \n",
    "    return df\n"
   ]
  },
  {
   "cell_type": "code",
   "execution_count": 7,
   "metadata": {},
   "outputs": [
    {
     "data": {
      "text/html": [
       "<div>\n",
       "<style scoped>\n",
       "    .dataframe tbody tr th:only-of-type {\n",
       "        vertical-align: middle;\n",
       "    }\n",
       "\n",
       "    .dataframe tbody tr th {\n",
       "        vertical-align: top;\n",
       "    }\n",
       "\n",
       "    .dataframe thead th {\n",
       "        text-align: right;\n",
       "    }\n",
       "</style>\n",
       "<table border=\"1\" class=\"dataframe\">\n",
       "  <thead>\n",
       "    <tr style=\"text-align: right;\">\n",
       "      <th></th>\n",
       "      <th>id</th>\n",
       "      <th>tokens</th>\n",
       "      <th>pos_tags</th>\n",
       "      <th>chunk_tags</th>\n",
       "      <th>ner_tags</th>\n",
       "    </tr>\n",
       "  </thead>\n",
       "  <tbody>\n",
       "    <tr>\n",
       "      <th>0</th>\n",
       "      <td>0</td>\n",
       "      <td>[EU, rejects, German, call, to, boycott, Briti...</td>\n",
       "      <td>[22, 42, 16, 21, 35, 37, 16, 21, 7]</td>\n",
       "      <td>[11, 21, 11, 12, 21, 22, 11, 12, 0]</td>\n",
       "      <td>[3, 0, 7, 0, 0, 0, 7, 0, 0]</td>\n",
       "    </tr>\n",
       "    <tr>\n",
       "      <th>1</th>\n",
       "      <td>1</td>\n",
       "      <td>[Peter, Blackburn]</td>\n",
       "      <td>[22, 22]</td>\n",
       "      <td>[11, 12]</td>\n",
       "      <td>[1, 2]</td>\n",
       "    </tr>\n",
       "    <tr>\n",
       "      <th>2</th>\n",
       "      <td>2</td>\n",
       "      <td>[BRUSSELS, 1996-08-22]</td>\n",
       "      <td>[22, 11]</td>\n",
       "      <td>[11, 12]</td>\n",
       "      <td>[5, 0]</td>\n",
       "    </tr>\n",
       "    <tr>\n",
       "      <th>3</th>\n",
       "      <td>3</td>\n",
       "      <td>[The, European, Commission, said, on, Thursday...</td>\n",
       "      <td>[12, 22, 22, 38, 15, 22, 28, 38, 15, 16, 21, 3...</td>\n",
       "      <td>[11, 12, 12, 21, 13, 11, 11, 21, 13, 11, 12, 1...</td>\n",
       "      <td>[0, 3, 4, 0, 0, 0, 0, 0, 0, 7, 0, 0, 0, 0, 0, ...</td>\n",
       "    </tr>\n",
       "    <tr>\n",
       "      <th>4</th>\n",
       "      <td>4</td>\n",
       "      <td>[Germany, 's, representative, to, the, Europea...</td>\n",
       "      <td>[22, 27, 21, 35, 12, 22, 22, 27, 16, 21, 22, 2...</td>\n",
       "      <td>[11, 11, 12, 13, 11, 12, 12, 11, 12, 12, 12, 1...</td>\n",
       "      <td>[5, 0, 0, 0, 0, 3, 4, 0, 0, 0, 1, 2, 0, 0, 0, ...</td>\n",
       "    </tr>\n",
       "  </tbody>\n",
       "</table>\n",
       "</div>"
      ],
      "text/plain": [
       "  id                                             tokens  \\\n",
       "0  0  [EU, rejects, German, call, to, boycott, Briti...   \n",
       "1  1                                 [Peter, Blackburn]   \n",
       "2  2                             [BRUSSELS, 1996-08-22]   \n",
       "3  3  [The, European, Commission, said, on, Thursday...   \n",
       "4  4  [Germany, 's, representative, to, the, Europea...   \n",
       "\n",
       "                                            pos_tags  \\\n",
       "0                [22, 42, 16, 21, 35, 37, 16, 21, 7]   \n",
       "1                                           [22, 22]   \n",
       "2                                           [22, 11]   \n",
       "3  [12, 22, 22, 38, 15, 22, 28, 38, 15, 16, 21, 3...   \n",
       "4  [22, 27, 21, 35, 12, 22, 22, 27, 16, 21, 22, 2...   \n",
       "\n",
       "                                          chunk_tags  \\\n",
       "0                [11, 21, 11, 12, 21, 22, 11, 12, 0]   \n",
       "1                                           [11, 12]   \n",
       "2                                           [11, 12]   \n",
       "3  [11, 12, 12, 21, 13, 11, 11, 21, 13, 11, 12, 1...   \n",
       "4  [11, 11, 12, 13, 11, 12, 12, 11, 12, 12, 12, 1...   \n",
       "\n",
       "                                            ner_tags  \n",
       "0                        [3, 0, 7, 0, 0, 0, 7, 0, 0]  \n",
       "1                                             [1, 2]  \n",
       "2                                             [5, 0]  \n",
       "3  [0, 3, 4, 0, 0, 0, 0, 0, 0, 7, 0, 0, 0, 0, 0, ...  \n",
       "4  [5, 0, 0, 0, 0, 3, 4, 0, 0, 0, 1, 2, 0, 0, 0, ...  "
      ]
     },
     "execution_count": 7,
     "metadata": {},
     "output_type": "execute_result"
    }
   ],
   "source": [
    "train_dataset = dataset_to_dataframe(train_dataset)\n",
    "test_dataset = dataset_to_dataframe(test_dataset)\n",
    "validation_dataset = dataset_to_dataframe(validation_dataset)\n",
    "\n",
    "# Print the first few rows of the train dataset\n",
    "train_dataset.head()"
   ]
  },
  {
   "cell_type": "code",
   "execution_count": 8,
   "metadata": {},
   "outputs": [],
   "source": [
    "# no need for pos tags or chunk tags so we will drop them \n",
    "train_dataset = train_dataset.drop(columns=[\"pos_tags\", \"chunk_tags\",\"id\"] , axis=1)\n",
    "test_dataset = test_dataset.drop(columns=[\"pos_tags\", \"chunk_tags\" ,\"id\"], axis=1)\n",
    "validation_dataset = validation_dataset.drop(columns=[\"pos_tags\", \"chunk_tags\" ,\"id\"], axis=1)"
   ]
  },
  {
   "cell_type": "code",
   "execution_count": 9,
   "metadata": {},
   "outputs": [
    {
     "data": {
      "text/html": [
       "<div>\n",
       "<style scoped>\n",
       "    .dataframe tbody tr th:only-of-type {\n",
       "        vertical-align: middle;\n",
       "    }\n",
       "\n",
       "    .dataframe tbody tr th {\n",
       "        vertical-align: top;\n",
       "    }\n",
       "\n",
       "    .dataframe thead th {\n",
       "        text-align: right;\n",
       "    }\n",
       "</style>\n",
       "<table border=\"1\" class=\"dataframe\">\n",
       "  <thead>\n",
       "    <tr style=\"text-align: right;\">\n",
       "      <th></th>\n",
       "      <th>tokens</th>\n",
       "      <th>ner_tags</th>\n",
       "    </tr>\n",
       "  </thead>\n",
       "  <tbody>\n",
       "    <tr>\n",
       "      <th>13646</th>\n",
       "      <td>[The, men, could, face, charges, carrying, up,...</td>\n",
       "      <td>[0, 0, 0, 0, 0, 0, 0, 0, 0, 0, 0, 0, 0, 0, 0, ...</td>\n",
       "    </tr>\n",
       "    <tr>\n",
       "      <th>8400</th>\n",
       "      <td>[TENNIS, -, EDBERG, EXTENDS, GRAND, SLAM, RUN,...</td>\n",
       "      <td>[0, 0, 1, 0, 0, 0, 0, 0, 0, 5, 0, 0]</td>\n",
       "    </tr>\n",
       "    <tr>\n",
       "      <th>1402</th>\n",
       "      <td>[Miss, Universe, ,, Venezuela, 's, Alicia, Mac...</td>\n",
       "      <td>[7, 8, 0, 5, 0, 1, 2, 0, 0, 5, 6, 0, 0, 0, 0, ...</td>\n",
       "    </tr>\n",
       "    <tr>\n",
       "      <th>3843</th>\n",
       "      <td>[SEATTLE, 66, 61, .520, 7]</td>\n",
       "      <td>[3, 0, 0, 0, 0]</td>\n",
       "    </tr>\n",
       "    <tr>\n",
       "      <th>7279</th>\n",
       "      <td>[\", Tomorrow, ...]</td>\n",
       "      <td>[0, 0, 0]</td>\n",
       "    </tr>\n",
       "  </tbody>\n",
       "</table>\n",
       "</div>"
      ],
      "text/plain": [
       "                                                  tokens  \\\n",
       "13646  [The, men, could, face, charges, carrying, up,...   \n",
       "8400   [TENNIS, -, EDBERG, EXTENDS, GRAND, SLAM, RUN,...   \n",
       "1402   [Miss, Universe, ,, Venezuela, 's, Alicia, Mac...   \n",
       "3843                          [SEATTLE, 66, 61, .520, 7]   \n",
       "7279                                  [\", Tomorrow, ...]   \n",
       "\n",
       "                                                ner_tags  \n",
       "13646  [0, 0, 0, 0, 0, 0, 0, 0, 0, 0, 0, 0, 0, 0, 0, ...  \n",
       "8400                [0, 0, 1, 0, 0, 0, 0, 0, 0, 5, 0, 0]  \n",
       "1402   [7, 8, 0, 5, 0, 1, 2, 0, 0, 5, 6, 0, 0, 0, 0, ...  \n",
       "3843                                     [3, 0, 0, 0, 0]  \n",
       "7279                                           [0, 0, 0]  "
      ]
     },
     "execution_count": 9,
     "metadata": {},
     "output_type": "execute_result"
    }
   ],
   "source": [
    "train_dataset.sample(5)"
   ]
  },
  {
   "cell_type": "code",
   "execution_count": 11,
   "metadata": {},
   "outputs": [
    {
     "name": "stdout",
     "output_type": "stream",
     "text": [
      "   Tag   Count\n",
      "0    3    6321\n",
      "1    0  169578\n",
      "2    7    3438\n",
      "3    1    6600\n",
      "4    2    4528\n",
      "5    5    7140\n",
      "6    4    3704\n",
      "7    8    1155\n",
      "8    6    1157\n"
     ]
    }
   ],
   "source": [
    "def tag_distribution(df):\n",
    "\tfrom collections import Counter\n",
    "\t\n",
    "\t# Flatten the list of NER tags\n",
    "\tall_tags = [tag for tags in df['ner_tags'] for tag in tags]\n",
    "\t\n",
    "\t# Count the occurrences of each tag\n",
    "\ttag_counts = Counter(all_tags)\n",
    "\t\n",
    "\t# Convert to DataFrame\n",
    "\ttag_distribution_df = pd.DataFrame(tag_counts.items(), columns=['Tag', 'Count'])\n",
    "\t\n",
    "\treturn tag_distribution_df, tag_counts\n",
    "\n",
    "# Calculate the distribution of NER tags in the train dataset\n",
    "train_tag_distribution, train_tag_counts = tag_distribution(train_dataset)\n",
    "\n",
    "# Display the distribution DataFrame\n",
    "print(train_tag_distribution)\n"
   ]
  },
  {
   "cell_type": "code",
   "execution_count": 12,
   "metadata": {},
   "outputs": [
    {
     "data": {
      "image/png": "[encoded data removed]",
      "text/plain": [
       "<Figure size 640x480 with 1 Axes>"
      ]
     },
     "metadata": {},
     "output_type": "display_data"
    }
   ],
   "source": [
    "# Map tag indices to their corresponding names\n",
    "train_tag_distribution['Tag_Name'] = train_tag_distribution['Tag'].apply(lambda x: label_names[x])\n",
    "\n",
    "# Plot the distribution using the new Tag_Name column\n",
    "train_tag_distribution.plot(x='Tag_Name', y='Count', kind='bar', legend=False)\n",
    "plt.xlabel('NER Tag')\n",
    "plt.ylabel('Count')\n",
    "plt.title('Distribution of NER Tags in Train Dataset')\n",
    "plt.show()"
   ]
  },
  {
   "cell_type": "code",
   "execution_count": 13,
   "metadata": {},
   "outputs": [
    {
     "name": "stdout",
     "output_type": "stream",
     "text": [
      "Labels and their corresponding NER tags:\n",
      "O: B-ORG\n",
      "B-PER: O\n",
      "I-PER: B-MISC\n",
      "B-ORG: O\n",
      "I-ORG: O\n",
      "B-LOC: O\n",
      "I-LOC: B-MISC\n",
      "B-MISC: O\n",
      "I-MISC: O\n"
     ]
    }
   ],
   "source": [
    "label_list = dataset[\"train\"].features[\"ner_tags\"].feature.names\n",
    "print(\"Labels and their corresponding NER tags:\")\n",
    "for label, ner_tag in zip(label_list, ner_tags):\n",
    "    print(f\"{label}: {ner_tag}\")\n"
   ]
  },
  {
   "cell_type": "code",
   "execution_count": 14,
   "metadata": {},
   "outputs": [
    {
     "data": {
      "text/plain": [
       "(14041, 2)"
      ]
     },
     "execution_count": 14,
     "metadata": {},
     "output_type": "execute_result"
    }
   ],
   "source": [
    "train_dataset.shape"
   ]
  },
  {
   "cell_type": "code",
   "execution_count": 15,
   "metadata": {},
   "outputs": [
    {
     "name": "stdout",
     "output_type": "stream",
     "text": [
      "(11132, 2)\n",
      "(2756, 2)\n",
      "(2605, 2)\n"
     ]
    }
   ],
   "source": [
    "def drop_zero_ner_tags(df):\n",
    "    return df[df['ner_tags'].apply(lambda tags: any(tag != 0 for tag in tags))]\n",
    "\n",
    "# Apply the function to the datasets\n",
    "train_dataset = drop_zero_ner_tags(train_dataset)\n",
    "test_dataset = drop_zero_ner_tags(test_dataset)\n",
    "validation_dataset = drop_zero_ner_tags(validation_dataset)\n",
    "\n",
    "# Print the shape of the datasets after dropping rows\n",
    "print(train_dataset.shape)\n",
    "print(test_dataset.shape)\n",
    "print(validation_dataset.shape)"
   ]
  },
  {
   "cell_type": "code",
   "execution_count": 16,
   "metadata": {
    "vscode": {
     "languageId": "ruby"
    }
   },
   "outputs": [
    {
     "name": "stdout",
     "output_type": "stream",
     "text": [
      "Train feature matrix shape: (171779, 100)\n",
      "Test feature matrix shape: (39473, 100)\n",
      "Validation feature matrix shape: (43478, 100)\n"
     ]
    }
   ],
   "source": [
    "\n",
    "from gensim.models import Word2Vec\n",
    "\n",
    "\n",
    "# Extract the token sentences from the DataFrame\n",
    "sentences = train_dataset['tokens'].tolist()\n",
    "\n",
    "# Train a Word2Vec model on the token data\n",
    "word2vec_model = Word2Vec(sentences, vector_size=100, window=5, min_count=1, workers=4)\n",
    "\n",
    "# Convert tokens to embeddings\n",
    "def token_to_embedding(token):\n",
    "    return word2vec_model.wv[token] if token in word2vec_model.wv else np.zeros(word2vec_model.vector_size)\n",
    "\n",
    "# Create a feature matrix for each token in the train dataset\n",
    "X_train = np.vstack([token_to_embedding(token) for sentence in train_dataset['tokens'] for token in sentence])\n",
    "\n",
    "# Similarly, create feature matrices for the test and validation datasets\n",
    "X_test = np.vstack([token_to_embedding(token) for sentence in test_dataset['tokens'] for token in sentence])\n",
    "X_validation = np.vstack([token_to_embedding(token) for sentence in validation_dataset['tokens'] for token in sentence])\n",
    "\n",
    "# Print the shape of the feature matrices\n",
    "print(f\"Train feature matrix shape: {X_train.shape}\")\n",
    "print(f\"Test feature matrix shape: {X_test.shape}\")\n",
    "print(f\"Validation feature matrix shape: {X_validation.shape}\")\n"
   ]
  },
  {
   "cell_type": "code",
   "execution_count": 17,
   "metadata": {},
   "outputs": [
    {
     "name": "stdout",
     "output_type": "stream",
     "text": [
      "Flattened X_train shape: (171779, 100)\n",
      "Flattened Y_train shape: (171779,)\n"
     ]
    }
   ],
   "source": [
    "# Flatten X_train\n",
    "X_train_flattened = X_train.reshape(X_train.shape[0], -1)\n",
    "\n",
    "# Print the shape of the flattened X_train\n",
    "print(f\"Flattened X_train shape: {X_train_flattened.shape}\")\n",
    "# Flatten Y_train\n",
    "Y_train = np.hstack(train_dataset['ner_tags'])\n",
    "\n",
    "# Print the shape of the flattened Y_train\n",
    "print(f\"Flattened Y_train shape: {Y_train.shape}\")"
   ]
  },
  {
   "cell_type": "markdown",
   "metadata": {},
   "source": [
    "#  **Random Forest Classifier** 🌟\n",
    "\n",
    "### **Accuracy**: <span style=\"color:green; font-weight:bold;\">89% ✅</span>\n",
    "\n",
    "> The **Random Forest** classifier achieves excellent performance, demonstrating its ability to handle complex datasets effectively."
   ]
  },
  {
   "cell_type": "code",
   "execution_count": 24,
   "metadata": {},
   "outputs": [
    {
     "name": "stdout",
     "output_type": "stream",
     "text": [
      "Random Forest Accuracy: 0.8982595698325437\n",
      "Random Forest Classification Report:\n",
      "              precision    recall  f1-score   support\n",
      "\n",
      "           O       0.92      1.00      0.96     31361\n",
      "       B-PER       0.86      0.44      0.59      1617\n",
      "       I-PER       0.61      0.20      0.30      1156\n",
      "       B-ORG       0.81      0.52      0.63      1661\n",
      "       I-ORG       0.70      0.47      0.57       835\n",
      "       B-LOC       0.80      0.78      0.79      1668\n",
      "       I-LOC       0.61      0.54      0.57       257\n",
      "      B-MISC       0.80      0.67      0.73       702\n",
      "      I-MISC       0.59      0.59      0.59       216\n",
      "\n",
      "    accuracy                           0.90     39473\n",
      "   macro avg       0.74      0.58      0.64     39473\n",
      "weighted avg       0.89      0.90      0.88     39473\n",
      "\n"
     ]
    }
   ],
   "source": [
    "from sklearn.ensemble import RandomForestClassifier\n",
    "from tkinter import _test\n",
    "from sklearn.metrics import accuracy_score, classification_report\n",
    "# Initialize the Random Forest model\n",
    "random_forest_model = RandomForestClassifier(n_estimators=100, random_state=42)\n",
    "\n",
    "# Train the model on the training data\n",
    "random_forest_model.fit(X_train_flattened, Y_train)\n",
    "\n",
    "# Flatten Y_test\n",
    "Y_test = np.hstack(test_dataset['ner_tags'])\n",
    "\n",
    "# Predict the NER tags for the test data\n",
    "Y_test_pred_rf = random_forest_model.predict(X_test)\n",
    "\n",
    "# Evaluate the model\n",
    "accuracy_rf = accuracy_score(Y_test, Y_test_pred_rf)\n",
    "report_rf = classification_report(Y_test, Y_test_pred_rf, target_names=label_names)\n",
    "\n",
    "print(f\"Random Forest Accuracy: {accuracy_rf}\")\n",
    "print(\"Random Forest Classification Report:\")\n",
    "print(report_rf)"
   ]
  },
  {
   "cell_type": "markdown",
   "metadata": {},
   "source": [
    "#  **Integrate the Model with a GUI** 🔗\n",
    "\n",
    "> Connect the trained **Random Forest** model to a sleek **CustomTkinter GUI** for an intuitive and interactive experience. Enable users to input sentences and receive accurate **Named Entity Recognition (NER)** predictions in real-time.\n",
    "\n",
    "### 🚀 Features:\n",
    "- **Dynamic Input**: Users can enter text for analysis.  \n",
    "- **Instant Feedback**: Real-time NER predictions displayed seamlessly.  \n",
    "- **Modern Design**: Built with **CustomTkinter** for a polished and responsive interface.\n"
   ]
  },
  {
   "cell_type": "code",
   "execution_count": 25,
   "metadata": {},
   "outputs": [],
   "source": [
    "# Function to convert predicted tag indices to their full names\n",
    "def convert_tags_to_names(predicted_tags):\n",
    "    tag_mapping = {\n",
    "        \"B-PER\": \"Person\",\n",
    "        \"I-PER\": \"Person\",\n",
    "        \"B-ORG\": \"Organization\",\n",
    "        \"I-ORG\": \"Organization\",\n",
    "        \"B-LOC\": \"Location\",\n",
    "        \"I-LOC\": \"Location\",\n",
    "        \"B-MISC\": \"Miscellaneous\",\n",
    "        \"I-MISC\": \"Miscellaneous\",\n",
    "        \"O\": \"O\"\n",
    "    }\n",
    "\n",
    "    # Map the tags using the dictionary\n",
    "    return [tag_mapping.get(tag, \"Unknown\") for tag in predicted_tags]\n"
   ]
  },
  {
   "cell_type": "code",
   "execution_count": 41,
   "metadata": {},
   "outputs": [],
   "source": [
    "import customtkinter as ctk\n",
    "import numpy as np\n",
    "\n",
    "# Function to predict NER tags for the input sentence\n",
    "def predict_ner():\n",
    "    input_sentence = entry.get().strip()\n",
    "    if not input_sentence:\n",
    "        result_text.set(\"Please enter a valid sentence.\")\n",
    "        return\n",
    "\n",
    "    tokens = input_sentence.split()\n",
    "    embeddings = np.vstack([token_to_embedding(token) for token in tokens])\n",
    "    embeddings_flattened = embeddings.reshape(embeddings.shape[0], -1)\n",
    "    predictions = random_forest_model.predict(embeddings_flattened)\n",
    "    ner_tags = [label_names[pred] for pred in predictions]\n",
    "    ner_tags = convert_tags_to_names(ner_tags)\n",
    "    result_text.set(f\"Tokens: {tokens}\\nNER Tags: {ner_tags}\")\n",
    "\n",
    "# Set up the main application window\n",
    "ctk.set_appearance_mode(\"System\")  # Options: \"System\", \"Dark\", \"Light\"\n",
    "ctk.set_default_color_theme(\"green\")  # Options: \"blue\", \"dark-blue\", \"green\"\n",
    "\n",
    "root = ctk.CTk()\n",
    "root.title(\"NER Tagger\")\n",
    "root.geometry(\"600x400\")\n",
    "\n",
    "# Input label\n",
    "entry_label = ctk.CTkLabel(root, text=\"Enter a sentence:\", font=(\"Helvetica\", 20))\n",
    "entry_label.pack(pady=10)\n",
    "\n",
    "# Input field\n",
    "entry = ctk.CTkEntry(root, width=500, font=(\"Helvetica\", 14),border_color=\"green\", border_width=2)\n",
    "entry.pack(pady=10)\n",
    "\n",
    "# Predict button\n",
    "predict_button = ctk.CTkButton(root, text=\"Predict NER Tags\", command=predict_ner, width=200)\n",
    "predict_button.pack(pady=20)\n",
    "\n",
    "# Result label\n",
    "result_text = ctk.StringVar()\n",
    "result_label = ctk.CTkLabel(root, textvariable=result_text, wraplength=500, font=(\"Helvetica\", 15))\n",
    "result_label.pack(pady=10)\n",
    "\n",
    "# Footer label\n",
    "footer_label = ctk.CTkLabel(\n",
    "    root,\n",
    "    text=\"Enter a sentence and click 'Predict NER Tags' to see the Named Entity Recognition results.\",\n",
    "    font=(\"Helvetica\", 15),\n",
    "    wraplength=500\n",
    ")\n",
    "footer_label.pack(pady=20)\n",
    "\n",
    "# Run the application\n",
    "root.mainloop()\n"
   ]
  },
  {
   "cell_type": "code",
   "execution_count": null,
   "metadata": {},
   "outputs": [],
   "source": []
  }
 ],
 "metadata": {
  "kernelspec": {
   "display_name": "base",
   "language": "python",
   "name": "python3"
  },
  "language_info": {
   "codemirror_mode": {
    "name": "ipython",
    "version": 3
   },
   "file_extension": ".py",
   "mimetype": "text/x-python",
   "name": "python",
   "nbconvert_exporter": "python",
   "pygments_lexer": "ipython3",
   "version": "3.9.7"
  }
 },
 "nbformat": 4,
 "nbformat_minor": 2
}
